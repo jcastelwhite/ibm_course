{
  "nbformat": 4,
  "nbformat_minor": 0,
  "metadata": {
    "colab": {
      "provenance": []
    },
    "kernelspec": {
      "name": "python3",
      "display_name": "Python 3"
    },
    "language_info": {
      "name": "python"
    }
  },
  "cells": [
    {
      "cell_type": "markdown",
      "source": [
        "#Data Science Tools and Ecosystem"
      ],
      "metadata": {
        "id": "98IJCzvd_qaj"
      }
    },
    {
      "cell_type": "markdown",
      "source": [
        "####In this notebook, Data Science Tools and Ecosystem are summarized."
      ],
      "metadata": {
        "id": "C6jT2Ig1AKzt"
      }
    },
    {
      "cell_type": "markdown",
      "source": [
        "**Objectives:**\n",
        "- List of popular languages\n",
        "- List of popular libraries used in data science\n",
        "- List of popular data science tools ide's\n",
        "- How to use a markup cell in a jupyter notebook\n",
        "- Use of arythmetic in a jupyter notebook"
      ],
      "metadata": {
        "id": "C0DYipfxIY7Z"
      }
    },
    {
      "cell_type": "markdown",
      "source": [
        "####Some of the popular languages that Data Scientists use are:\n",
        "\n",
        "1. Python\n",
        "2. R\n",
        "3. SQL\n",
        "4. Java\n",
        "5. Scala\n",
        "6. Julia"
      ],
      "metadata": {
        "id": "wl_chsfDAmTH"
      }
    },
    {
      "cell_type": "markdown",
      "source": [
        "####Some of the commonly used libraries used by Data Scientists include:\n",
        "\n",
        "1. GGPLOT (USED IN R)\n",
        "2. GGPLO2 (USED IN R)\n",
        "3. CARET (USED IN R)\n",
        "4. DPLYR (USED IN R)\n",
        "5. PANDAS (USED IN PYTHON)\n",
        "6. NUMPY (USED IN PYTHON)\n"
      ],
      "metadata": {
        "id": "vLYxvCRkBmbU"
      }
    },
    {
      "cell_type": "markdown",
      "source": [
        "|Data Science Tools|\n",
        "|-|\n",
        "|GOOGLE COLAB|\n",
        "|IBM WATSON STUDIO|\n",
        "|VISUAL STUDIO CODE|\n",
        "\n",
        "\n",
        "\n"
      ],
      "metadata": {
        "id": "ZLbd_xxgC0B1"
      }
    },
    {
      "cell_type": "markdown",
      "source": [
        "### Below are a few examples of evaluating arithmetic expressions in Python"
      ],
      "metadata": {
        "id": "0RP76dP9GwKY"
      }
    },
    {
      "cell_type": "code",
      "source": [
        "#This a simple arithmetic expression to mutiply then add integers\n",
        "(3*4)+5"
      ],
      "metadata": {
        "colab": {
          "base_uri": "https://localhost:8080/"
        },
        "id": "M-9jg4I9HOMw",
        "outputId": "27e199bf-c6d5-420b-fa05-93bd5fcc01ee"
      },
      "execution_count": 2,
      "outputs": [
        {
          "output_type": "execute_result",
          "data": {
            "text/plain": [
              "17"
            ]
          },
          "metadata": {},
          "execution_count": 2
        }
      ]
    },
    {
      "cell_type": "code",
      "source": [
        "# This will convert 200 minutes to hours by diving by 60\n",
        "(200/60)"
      ],
      "metadata": {
        "colab": {
          "base_uri": "https://localhost:8080/"
        },
        "id": "agfSt6OrH1rZ",
        "outputId": "f5982b00-e0ea-46be-8e7b-0c42620b7efb"
      },
      "execution_count": 3,
      "outputs": [
        {
          "output_type": "execute_result",
          "data": {
            "text/plain": [
              "3.3333333333333335"
            ]
          },
          "metadata": {},
          "execution_count": 3
        }
      ]
    },
    {
      "cell_type": "markdown",
      "source": [
        "##Author\n",
        "Jeison Castelblanco Rodriguez"
      ],
      "metadata": {
        "id": "dlACSxgcJiV5"
      }
    },
    {
      "cell_type": "markdown",
      "source": [],
      "metadata": {
        "id": "fy7uFxYZHNqV"
      }
    },
    {
      "cell_type": "code",
      "source": [],
      "metadata": {
        "id": "5D4XGi7s_kx5"
      },
      "execution_count": null,
      "outputs": []
    }
  ]
}